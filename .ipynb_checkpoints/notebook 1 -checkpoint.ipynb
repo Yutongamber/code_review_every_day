{
 "cells": [
  {
   "cell_type": "code",
   "execution_count": 2,
   "metadata": {},
   "outputs": [
    {
     "name": "stdout",
     "output_type": "stream",
     "text": [
      "False\n"
     ]
    }
   ],
   "source": [
    "def tell_even(num):\n",
    "    even = True\n",
    "    if num % 2 == 0:       # !\n",
    "        return even\n",
    "    else: return False\n",
    "    \n",
    "if __name__ == \"__main__\": # !\n",
    "    print(tell_even(3))"
   ]
  },
  {
   "cell_type": "code",
   "execution_count": 5,
   "metadata": {},
   "outputs": [
    {
     "name": "stdout",
     "output_type": "stream",
     "text": [
      "1 {\"1\": 1, \"2\": 0, \"sum_return\": 1}\n",
      "2 {\"1\": 0, \"2\": 1, \"sum_return\": 1}\n"
     ]
    }
   ],
   "source": [
    "dictt = {'1': '{\"1\": 1, \"2\": 0, \"sum_return\": 1}', '2': '{\"1\": 0, \"2\": 1, \"sum_return\": 1}'}\n",
    "for key, values in dictt.items():\n",
    "    print(key, values)"
   ]
  },
  {
   "cell_type": "code",
   "execution_count": 10,
   "metadata": {},
   "outputs": [
    {
     "name": "stdout",
     "output_type": "stream",
     "text": [
      "{\"1\": 1, \"2\": 0, \"sum_return\": 1}\n"
     ]
    },
    {
     "data": {
      "text/plain": [
       "1"
      ]
     },
     "execution_count": 10,
     "metadata": {},
     "output_type": "execute_result"
    }
   ],
   "source": [
    "import json\n",
    "result = dictt['1']\n",
    "print(result)\n",
    "json.loads(dictt['1'])['1'] # 需要解码"
   ]
  },
  {
   "cell_type": "code",
   "execution_count": 11,
   "metadata": {},
   "outputs": [
    {
     "data": {
      "text/plain": [
       "'1'"
      ]
     },
     "execution_count": 11,
     "metadata": {},
     "output_type": "execute_result"
    }
   ],
   "source": [
    "# int 转成 字符串\n",
    "a = 1\n",
    "str(a)"
   ]
  },
  {
   "cell_type": "code",
   "execution_count": null,
   "metadata": {},
   "outputs": [],
   "source": [
    "# join"
   ]
  },
  {
   "cell_type": "code",
   "execution_count": 13,
   "metadata": {},
   "outputs": [
    {
     "name": "stdout",
     "output_type": "stream",
     "text": [
      "0\n",
      "1\n"
     ]
    }
   ],
   "source": [
    "alist = [123, '我']\n",
    "print(alist.index(123))\n",
    "print(alist.index('我'))"
   ]
  },
  {
   "cell_type": "code",
   "execution_count": 21,
   "metadata": {},
   "outputs": [
    {
     "data": {
      "text/plain": [
       "\"[,',我,',,, ,',爱,',,, ,',我,',,, ,',家,',]\""
      ]
     },
     "execution_count": 21,
     "metadata": {},
     "output_type": "execute_result"
    }
   ],
   "source": [
    "aalist = ['我','爱','我','家']\n",
    "','.join(str(aalist).strip())\n",
    "# ???"
   ]
  },
  {
   "cell_type": "code",
   "execution_count": 23,
   "metadata": {},
   "outputs": [
    {
     "data": {
      "text/plain": [
       "'hello,good,boy,doiido'"
      ]
     },
     "execution_count": 23,
     "metadata": {},
     "output_type": "execute_result"
    }
   ],
   "source": [
    "seq1 = ['hello','good','boy','doiido']\n",
    "','.join(seq1)\n",
    "\n",
    "# https://www.cnblogs.com/sui776265233/p/10755525.html"
   ]
  },
  {
   "cell_type": "markdown",
   "metadata": {},
   "source": [
    "###### 查远程仓库地址\n",
    "git remote -v"
   ]
  }
 ],
 "metadata": {
  "kernelspec": {
   "display_name": "Python 3",
   "language": "python",
   "name": "python3"
  },
  "language_info": {
   "codemirror_mode": {
    "name": "ipython",
    "version": 3
   },
   "file_extension": ".py",
   "mimetype": "text/x-python",
   "name": "python",
   "nbconvert_exporter": "python",
   "pygments_lexer": "ipython3",
   "version": "3.7.3"
  }
 },
 "nbformat": 4,
 "nbformat_minor": 2
}
